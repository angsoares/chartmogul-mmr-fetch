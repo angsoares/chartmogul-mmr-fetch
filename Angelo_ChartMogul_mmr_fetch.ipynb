{
  "nbformat": 4,
  "nbformat_minor": 0,
  "metadata": {
    "colab": {
      "name": "Angelo-ChartMogul-mmr-fetch.ipynb",
      "provenance": [],
      "collapsed_sections": [],
      "include_colab_link": true
    },
    "kernelspec": {
      "name": "python3",
      "display_name": "Python 3"
    },
    "language_info": {
      "name": "python"
    }
  },
  "cells": [
    {
      "cell_type": "markdown",
      "metadata": {
        "id": "view-in-github",
        "colab_type": "text"
      },
      "source": [
        "<a href=\"https://colab.research.google.com/github/angsoares/chartmogul-mmr-fetch/blob/main/Angelo_ChartMogul_mmr_fetch.ipynb\" target=\"_parent\"><img src=\"https://colab.research.google.com/assets/colab-badge.svg\" alt=\"Open In Colab\"/></a>"
      ]
    },
    {
      "cell_type": "markdown",
      "source": [
        "\n",
        "https://dev.chartmogul.com/docs/authentication\n",
        "\n",
        "\n",
        "https://dev.chartmogul.com/reference/retrieve-mrr\n"
      ],
      "metadata": {
        "id": "Gq8m7VGanjBB"
      }
    },
    {
      "cell_type": "markdown",
      "source": [
        "Install chartmogul library using python package manager"
      ],
      "metadata": {
        "id": "MTgRm51kl3Ti"
      }
    },
    {
      "cell_type": "markdown",
      "source": [
        ""
      ],
      "metadata": {
        "id": "slUKQuVenhzX"
      }
    },
    {
      "cell_type": "code",
      "source": [
        "!pip install chartmogul"
      ],
      "metadata": {
        "colab": {
          "base_uri": "https://localhost:8080/"
        },
        "id": "nhPGAFiNl0jV",
        "outputId": "826504aa-517b-4e28-b2eb-f46355fca35d"
      },
      "execution_count": 1,
      "outputs": [
        {
          "output_type": "stream",
          "name": "stdout",
          "text": [
            "Collecting chartmogul\n",
            "  Downloading chartmogul-3.0.0-py3-none-any.whl (20 kB)\n",
            "Requirement already satisfied: uritemplate>=3.0.0 in /usr/local/lib/python3.7/dist-packages (from chartmogul) (3.0.1)\n",
            "Collecting marshmallow>=3.10.0\n",
            "  Downloading marshmallow-3.14.1-py3-none-any.whl (47 kB)\n",
            "\u001b[K     |████████████████████████████████| 47 kB 2.9 MB/s \n",
            "\u001b[?25hRequirement already satisfied: promise>=1.0.1 in /usr/local/lib/python3.7/dist-packages (from chartmogul) (2.3)\n",
            "Requirement already satisfied: future>=0.16.0 in /usr/local/lib/python3.7/dist-packages (from chartmogul) (0.16.0)\n",
            "Requirement already satisfied: requests>=2.10.0 in /usr/local/lib/python3.7/dist-packages (from chartmogul) (2.23.0)\n",
            "Requirement already satisfied: six in /usr/local/lib/python3.7/dist-packages (from promise>=1.0.1->chartmogul) (1.15.0)\n",
            "Requirement already satisfied: idna<3,>=2.5 in /usr/local/lib/python3.7/dist-packages (from requests>=2.10.0->chartmogul) (2.10)\n",
            "Requirement already satisfied: certifi>=2017.4.17 in /usr/local/lib/python3.7/dist-packages (from requests>=2.10.0->chartmogul) (2021.10.8)\n",
            "Requirement already satisfied: urllib3!=1.25.0,!=1.25.1,<1.26,>=1.21.1 in /usr/local/lib/python3.7/dist-packages (from requests>=2.10.0->chartmogul) (1.24.3)\n",
            "Requirement already satisfied: chardet<4,>=3.0.2 in /usr/local/lib/python3.7/dist-packages (from requests>=2.10.0->chartmogul) (3.0.4)\n",
            "Installing collected packages: marshmallow, chartmogul\n",
            "Successfully installed chartmogul-3.0.0 marshmallow-3.14.1\n"
          ]
        }
      ]
    },
    {
      "cell_type": "markdown",
      "source": [
        "Check Connection with Chartmogul"
      ],
      "metadata": {
        "id": "KzsXa-O7phsf"
      }
    },
    {
      "cell_type": "code",
      "execution_count": 2,
      "metadata": {
        "id": "qoLkHkM6jueN"
      },
      "outputs": [],
      "source": [
        "import chartmogul\n",
        "\n",
        "config = chartmogul.Config('api_key')                        # Add API Key here"
      ]
    },
    {
      "cell_type": "code",
      "source": [
        "chartmogul.Ping.ping(config)"
      ],
      "metadata": {
        "colab": {
          "base_uri": "https://localhost:8080/"
        },
        "id": "YXNZDrBYnM-B",
        "outputId": "712bb86b-0d23-43d1-f8ef-f1d971c9d3bd"
      },
      "execution_count": null,
      "outputs": [
        {
          "output_type": "execute_result",
          "data": {
            "text/plain": [
              "<Promise at 0x7fc26c427b10 fulfilled with <Ping{data='pong!'}>>"
            ]
          },
          "metadata": {},
          "execution_count": 3
        }
      ]
    },
    {
      "cell_type": "markdown",
      "source": [
        "Get Monthly MRR and Quarterly MRR"
      ],
      "metadata": {
        "id": "e5NwtQv8pkC0"
      }
    },
    {
      "cell_type": "code",
      "source": [
        "monthly_mrr = chartmogul.Metrics.mrr(\n",
        "    config,\n",
        "    start_date=\"2019-01-01\",\n",
        "    end_date=\"2019-04-30\",\n",
        "    interval=\"month\").get()"
      ],
      "metadata": {
        "id": "AjIBTIlEk_v1"
      },
      "execution_count": 3,
      "outputs": []
    },
    {
      "cell_type": "code",
      "source": [
        "quarter_mrr = chartmogul.Metrics.mrr(\n",
        "    config,\n",
        "    start_date=\"2019-01-01\",\n",
        "    end_date=\"2019-04-30\",\n",
        "    interval=\"quarter\").get()"
      ],
      "metadata": {
        "id": "MGrVwUlZrGv1"
      },
      "execution_count": 4,
      "outputs": []
    },
    {
      "cell_type": "code",
      "source": [
        "monthly_mrr, quarter_mrr"
      ],
      "metadata": {
        "colab": {
          "base_uri": "https://localhost:8080/"
        },
        "id": "ycm_8ksVn-Is",
        "outputId": "984b92d8-c4a1-48b5-d613-ee01cf19f17a"
      },
      "execution_count": null,
      "outputs": [
        {
          "output_type": "execute_result",
          "data": {
            "text/plain": [
              "(Metrics(entries=[<Metrics{date=datetime.date(2019, 1, 31), mrr=85000.0, mrr_churn=0.0, mrr_contraction=0.0, mrr_expansion=0.0, mrr_new_business=85000.0, mrr_reactivation=0.0}>, <Metrics{date=datetime.date(2019, 2, 28), mrr=85000.0, mrr_churn=0.0, mrr_contraction=0.0, mrr_expansion=0.0, mrr_new_business=0.0, mrr_reactivation=0.0}>, <Metrics{date=datetime.date(2019, 3, 31), mrr=85000.0, mrr_churn=0.0, mrr_contraction=0.0, mrr_expansion=0.0, mrr_new_business=0.0, mrr_reactivation=0.0}>, <Metrics{date=datetime.date(2019, 4, 30), mrr=70000.0, mrr_churn=-15000.0, mrr_contraction=0.0, mrr_expansion=0.0, mrr_new_business=0.0, mrr_reactivation=0.0}>], summary=<Summary{current=50000.0, percentage_change=0.0, previous=50000.0}>),\n",
              " Metrics(entries=[<Metrics{date=datetime.date(2019, 3, 31), mrr=85000.0, mrr_churn=0.0, mrr_contraction=0.0, mrr_expansion=0.0, mrr_new_business=85000.0, mrr_reactivation=0.0}>, <Metrics{date=datetime.date(2019, 4, 30), mrr=70000.0, mrr_churn=-15000.0, mrr_contraction=0.0, mrr_expansion=0.0, mrr_new_business=0.0, mrr_reactivation=0.0}>], summary=<Summary{current=50000.0, percentage_change=0.0, previous=50000.0}>))"
            ]
          },
          "metadata": {},
          "execution_count": 6
        }
      ]
    },
    {
      "cell_type": "code",
      "source": [
        "monthly_mrr.entries"
      ],
      "metadata": {
        "colab": {
          "base_uri": "https://localhost:8080/"
        },
        "id": "gaifcip-ofkg",
        "outputId": "d0d28736-aaa1-4537-90ee-88a91d73bfe4"
      },
      "execution_count": null,
      "outputs": [
        {
          "output_type": "execute_result",
          "data": {
            "text/plain": [
              "[<Metrics{date=datetime.date(2019, 1, 31), mrr=85000.0, mrr_churn=0.0, mrr_contraction=0.0, mrr_expansion=0.0, mrr_new_business=85000.0, mrr_reactivation=0.0}>,\n",
              " <Metrics{date=datetime.date(2019, 2, 28), mrr=85000.0, mrr_churn=0.0, mrr_contraction=0.0, mrr_expansion=0.0, mrr_new_business=0.0, mrr_reactivation=0.0}>,\n",
              " <Metrics{date=datetime.date(2019, 3, 31), mrr=85000.0, mrr_churn=0.0, mrr_contraction=0.0, mrr_expansion=0.0, mrr_new_business=0.0, mrr_reactivation=0.0}>,\n",
              " <Metrics{date=datetime.date(2019, 4, 30), mrr=70000.0, mrr_churn=-15000.0, mrr_contraction=0.0, mrr_expansion=0.0, mrr_new_business=0.0, mrr_reactivation=0.0}>]"
            ]
          },
          "metadata": {},
          "execution_count": 7
        }
      ]
    },
    {
      "cell_type": "markdown",
      "source": [
        "Format and display the fetched data."
      ],
      "metadata": {
        "id": "4PH7NhHXs2Ho"
      }
    },
    {
      "cell_type": "code",
      "source": [
        "print(\"Total MRR for Q1 2019: $\", quarter_mrr.summary.current/100)\n",
        "for entry in monthly_mrr.entries:\n",
        "  print(entry.date.strftime(\"%B\"), \"- ${mrr}\".format(mrr=entry.mrr/100))"
      ],
      "metadata": {
        "colab": {
          "base_uri": "https://localhost:8080/"
        },
        "id": "FFIamECwprHr",
        "outputId": "f706ec97-01cc-440d-d822-42c635ffcc80"
      },
      "execution_count": 13,
      "outputs": [
        {
          "output_type": "stream",
          "name": "stdout",
          "text": [
            "Total MRR for Q1 2019: $ 500.0\n",
            "January - $850.0\n",
            "February - $850.0\n",
            "March - $850.0\n",
            "April - $700.0\n"
          ]
        }
      ]
    },
    {
      "cell_type": "code",
      "source": [
        ""
      ],
      "metadata": {
        "id": "8lrXNT0ipxZI"
      },
      "execution_count": 9,
      "outputs": []
    }
  ]
}